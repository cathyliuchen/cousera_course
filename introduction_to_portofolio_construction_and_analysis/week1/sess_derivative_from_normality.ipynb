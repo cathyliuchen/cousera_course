{
 "cells": [
  {
   "cell_type": "markdown",
   "id": "7b160352",
   "metadata": {},
   "source": [
    "## Building Modules"
   ]
  },
  {
   "cell_type": "code",
   "execution_count": 71,
   "id": "6259fa5a",
   "metadata": {},
   "outputs": [],
   "source": [
    "import pandas as pd "
   ]
  },
  {
   "cell_type": "code",
   "execution_count": 72,
   "id": "918206f2",
   "metadata": {},
   "outputs": [],
   "source": [
    "import hello as h "
   ]
  },
  {
   "cell_type": "code",
   "execution_count": 73,
   "id": "666286fb",
   "metadata": {},
   "outputs": [
    {
     "data": {
      "text/plain": [
       "'Hello Jim'"
      ]
     },
     "execution_count": 73,
     "metadata": {},
     "output_type": "execute_result"
    }
   ],
   "source": [
    "h.message"
   ]
  },
  {
   "cell_type": "markdown",
   "id": "3cb54a81-3bf5-4aab-b144-2dd629190c07",
   "metadata": {},
   "source": [
    "Change the hello.py message = 'Hello Jane'"
   ]
  },
  {
   "cell_type": "code",
   "execution_count": 74,
   "id": "b46470fe-fe8e-43b7-8acc-49642e79faa8",
   "metadata": {},
   "outputs": [
    {
     "data": {
      "text/plain": [
       "'Hello Jim'"
      ]
     },
     "execution_count": 74,
     "metadata": {},
     "output_type": "execute_result"
    }
   ],
   "source": [
    "h.message"
   ]
  },
  {
   "cell_type": "markdown",
   "id": "db64082a-816d-4c04-b552-4fa350d26c01",
   "metadata": {},
   "source": [
    "Python only import module on the first time you see it, next time it treat it as already imported.\n",
    "\n",
    "Magic command `%load_ext` load extention autoreload, it makes available to us the `autoreload` functionality, and it deos it through another magic command called `%autoreload`\n"
   ]
  },
  {
   "cell_type": "code",
   "execution_count": 76,
   "id": "6f18ccb7-da38-4389-bcf4-d457df32661b",
   "metadata": {},
   "outputs": [
    {
     "name": "stdout",
     "output_type": "stream",
     "text": [
      "The autoreload extension is already loaded. To reload it, use:\n",
      "  %reload_ext autoreload\n"
     ]
    }
   ],
   "source": [
    "%load_ext autoreload "
   ]
  },
  {
   "cell_type": "markdown",
   "id": "0cdc2123-cb09-43a9-b7fb-7e7b32fd4c5e",
   "metadata": {},
   "source": [
    "\n",
    "Mode 2 means always autoreload every time anything changes."
   ]
  },
  {
   "cell_type": "code",
   "execution_count": 77,
   "id": "1c907d34-0f73-4eac-9912-7881b0b9b0fd",
   "metadata": {},
   "outputs": [],
   "source": [
    "%autoreload 2"
   ]
  },
  {
   "cell_type": "code",
   "execution_count": null,
   "id": "e7742196-bc56-4b40-855d-493a1326dd81",
   "metadata": {},
   "outputs": [],
   "source": [
    "import hello as h "
   ]
  },
  {
   "cell_type": "markdown",
   "id": "a888a866-66e3-46eb-a262-b3905c6bde20",
   "metadata": {},
   "source": [
    "## edhec_risk"
   ]
  },
  {
   "cell_type": "code",
   "execution_count": 95,
   "id": "86e949be-0fde-4dac-9829-40bce7f41280",
   "metadata": {},
   "outputs": [],
   "source": [
    "import edhec_risk_kit as erk\n",
    "returns = erk.get_ffme_returns()"
   ]
  },
  {
   "cell_type": "code",
   "execution_count": 97,
   "id": "a5aec074-39a5-4519-88c1-f5cd28153c17",
   "metadata": {},
   "outputs": [
    {
     "data": {
      "text/html": [
       "<div>\n",
       "<style scoped>\n",
       "    .dataframe tbody tr th:only-of-type {\n",
       "        vertical-align: middle;\n",
       "    }\n",
       "\n",
       "    .dataframe tbody tr th {\n",
       "        vertical-align: top;\n",
       "    }\n",
       "\n",
       "    .dataframe thead th {\n",
       "        text-align: right;\n",
       "    }\n",
       "</style>\n",
       "<table border=\"1\" class=\"dataframe\">\n",
       "  <thead>\n",
       "    <tr style=\"text-align: right;\">\n",
       "      <th></th>\n",
       "      <th>SmallCap</th>\n",
       "      <th>LargeCap</th>\n",
       "    </tr>\n",
       "  </thead>\n",
       "  <tbody>\n",
       "    <tr>\n",
       "      <th>1926-07</th>\n",
       "      <td>-0.0145</td>\n",
       "      <td>0.0329</td>\n",
       "    </tr>\n",
       "    <tr>\n",
       "      <th>1926-08</th>\n",
       "      <td>0.0512</td>\n",
       "      <td>0.0370</td>\n",
       "    </tr>\n",
       "    <tr>\n",
       "      <th>1926-09</th>\n",
       "      <td>0.0093</td>\n",
       "      <td>0.0067</td>\n",
       "    </tr>\n",
       "    <tr>\n",
       "      <th>1926-10</th>\n",
       "      <td>-0.0484</td>\n",
       "      <td>-0.0243</td>\n",
       "    </tr>\n",
       "    <tr>\n",
       "      <th>1926-11</th>\n",
       "      <td>-0.0078</td>\n",
       "      <td>0.0270</td>\n",
       "    </tr>\n",
       "  </tbody>\n",
       "</table>\n",
       "</div>"
      ],
      "text/plain": [
       "         SmallCap  LargeCap\n",
       "1926-07   -0.0145    0.0329\n",
       "1926-08    0.0512    0.0370\n",
       "1926-09    0.0093    0.0067\n",
       "1926-10   -0.0484   -0.0243\n",
       "1926-11   -0.0078    0.0270"
      ]
     },
     "execution_count": 97,
     "metadata": {},
     "output_type": "execute_result"
    }
   ],
   "source": [
    "returns.head()"
   ]
  },
  {
   "cell_type": "code",
   "execution_count": 99,
   "id": "2e9927e2-8d58-409c-bf16-1d586e61f19d",
   "metadata": {},
   "outputs": [
    {
     "data": {
      "text/plain": [
       "-0.8330007793945303"
      ]
     },
     "execution_count": 99,
     "metadata": {},
     "output_type": "execute_result"
    }
   ],
   "source": [
    "erk.drawdown(returns[\"SmallCap\"])[\"Drawdown\"].min()"
   ]
  },
  {
   "cell_type": "code",
   "execution_count": 100,
   "id": "e12d55e9-9c00-4dfc-af22-286d5c4e38ee",
   "metadata": {},
   "outputs": [
    {
     "data": {
      "text/plain": [
       "-0.6312068077252386"
      ]
     },
     "execution_count": 100,
     "metadata": {},
     "output_type": "execute_result"
    }
   ],
   "source": [
    "erk.drawdown(returns[\"1975\":][\"SmallCap\"])[\"Drawdown\"].min()"
   ]
  },
  {
   "cell_type": "code",
   "execution_count": null,
   "id": "75e7eff5-5040-4f07-a01b-ccbc548610c9",
   "metadata": {},
   "outputs": [],
   "source": []
  }
 ],
 "metadata": {
  "kernelspec": {
   "display_name": "Python 3",
   "language": "python",
   "name": "python3"
  },
  "language_info": {
   "codemirror_mode": {
    "name": "ipython",
    "version": 3
   },
   "file_extension": ".py",
   "mimetype": "text/x-python",
   "name": "python",
   "nbconvert_exporter": "python",
   "pygments_lexer": "ipython3",
   "version": "3.8.8"
  }
 },
 "nbformat": 4,
 "nbformat_minor": 5
}
